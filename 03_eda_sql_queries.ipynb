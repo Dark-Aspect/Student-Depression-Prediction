{
 "cells": [
  {
   "cell_type": "markdown",
   "id": "41e96744",
   "metadata": {},
   "source": [
    "<div style=\"text-align: center;\">\n",
    "  <img src=\"Images/Depressed_Student.png\" alt=\"Depressed Student Illustration\" width=\"600\"/>\n",
    "</div>"
   ]
  },
  {
   "cell_type": "markdown",
   "id": "8aa6bc81",
   "metadata": {},
   "source": [
    "## Hello! \n",
    "This is a project to predict **Student Depression** using the [Student Depression Dataset](https://www.kaggle.com/datasets/hopesb/student-depression-dataset/data) from Kaggle. Understanding and predicting depression among students is an essential task, as mental health plays a critical role in their academic performance and overall well-being.  \n",
    "\n",
    "Student depression datasets are typically used to analyze and predict depression levels among students. This project can contribute to identifying factors influencing student mental health and designing early intervention strategies."
   ]
  },
  {
   "cell_type": "markdown",
   "id": "dcc79eaf",
   "metadata": {},
   "source": [
    "The dataset provides comprehensive information about students and their mental health status, with 18 columns and 27,901 rows, structured in a CSV format. Below is a brief explanation of the columns:  \n",
    "\n",
    "1. **id**: A unique identifier for each student.  \n",
    "2. **Gender**: The gender of the student.  \n",
    "3. **Age**: The age of the student.  \n",
    "4. **City**: The city where the student resides.  \n",
    "5. **Profession**: The student's occupation, such as student, part-time worker, etc.  \n",
    "6. **Academic Pressure**: The level of academic stress experienced by the student.  \n",
    "7. **Work Pressure**: The work-related stress experienced by the student.  \n",
    "8. **CGPA**: The student’s cumulative grade point average.  \n",
    "9. **Study Satisfaction**: The student’s level of satisfaction with their studies.  \n",
    "10. **Job Satisfaction**: The student’s level of satisfaction with their job or part-time work.  \n",
    "11. **Sleep Duration**: Average sleep duration in hours per day.  \n",
    "12. **Dietary Habits**: The dietary pattern of the student (e.g., healthy or unhealthy).  \n",
    "13. **Degree**: The current level of education the student is pursuing.  \n",
    "14. **Have you ever had suicidal thoughts?**: A binary column (Yes/No) indicating if the student has had suicidal thoughts.  \n",
    "15. **Work/Study Hours**: The number of hours spent working or studying per day.  \n",
    "16. **Financial Stress**: The financial burden or stress experienced by the student.  \n",
    "17. **Family History of Mental Illness**: A binary column (Yes/No) indicating if the student has a family history of mental health issues.  \n",
    "18. **Depression**: The target variable, indicating whether the student is experiencing depression (Yes/No).  \n",
    "\n",
    "> ⚠️ *Disclaimer*: This dataset, given its sensitive nature, must be used responsibly, ensuring ethical considerations like privacy, informed consent, and data anonymization. This project aims to leverage this dataset to build a model capable of predicting depression status in students and identifying significant contributing factors."
   ]
  },
  {
   "cell_type": "code",
   "execution_count": null,
   "id": "8f86c8ec",
   "metadata": {},
   "outputs": [],
   "source": []
  },
  {
   "cell_type": "markdown",
   "id": "7155cf10",
   "metadata": {},
   "source": [
    "# **Step 3: Exploratory Data Analysis (EDA) – SQL Queries**\n",
    "\n",
    "This notebook focuses on performing **exploratory data analysis using SQL queries** within a Jupyter environment. By using SQL-style queries with the help of `sqlite3`, we can analyze and extract insights from the student depression dataset in a more intuitive and readable way for those familiar with SQL.\n",
    "\n",
    "---\n",
    "\n",
    "### Objectives of This Notebook\n",
    "\n",
    "1. [Import Libraries and Load the Dataset](#import)  \n",
    "2. [Preview the Dataset](#preview)  \n",
    "3. [Run SQL Queries to Answer Key Questions](#queries)  \n",
    "4. [Summary and Key Insights](#summary)\n",
    "\n",
    "\n",
    "---\n",
    "\n",
    "### Key Questions Explored via SQL\n",
    "\n",
    "1. What is the distribution of students based on their depression status?\n",
    "2. How does the average CGPA differ between depressed and non-depressed students?\n",
    "3. What is the relationship between sleep duration and depression?\n",
    "4. Which region has the highest percentage of depressed students?\n",
    "5. Do students with suicidal thoughts show a higher rate of depression?\n",
    "6. What percentage of students with a family mental illness history are depressed?\n",
    "7. Does dietary habit correlate with depression levels?\n",
    "8. What is the average number of work/study hours for depressed vs. non-depressed students?\n",
    "9. Among different education levels (degree), which group has the highest depression rate?\n",
    "10. What is the combined effect of financial stress and depression, ordered by highest counts?\n",
    "\n",
    "---\n",
    "\n",
    "### Next Steps\n",
    "\n",
    "- Step 4: [Excel Dashboard](./04_excel_dashboard.xlsx)  \n",
    "- Step 5: [Modeling & Prediction](./05_modeling_prediction.ipynb)"
   ]
  },
  {
   "cell_type": "code",
   "execution_count": null,
   "id": "9ac2e556",
   "metadata": {},
   "outputs": [],
   "source": []
  },
  {
   "cell_type": "markdown",
   "id": "e0a89a97",
   "metadata": {},
   "source": [
    "<a id=\"import\"></a>\n",
    "\n",
    "## **3.1 Import Libraries, Load the Dataset, and Connect to the Database**"
   ]
  },
  {
   "cell_type": "markdown",
   "id": "140550b9",
   "metadata": {},
   "source": [
    "We begin by importing the required Python libraries:\n",
    "\n",
    "- **Pandas** for data manipulation and analysis.\n",
    "- **SQLite3** for setting up and querying a local SQL database.\n",
    "- **IPython SQL extension** for running SQL queries directly within the notebook.\n",
    "\n",
    "After loading the **Student Depression** dataset into a pandas DataFrame, we connect it to a local **SQLite** database. This setup enables us to perform SQL-based exploration conveniently within the Jupyter Notebook environment."
   ]
  },
  {
   "cell_type": "code",
   "execution_count": 1,
   "id": "ed3a23f9",
   "metadata": {},
   "outputs": [],
   "source": [
    "# Pandas is a software library written for the Python programming language for data manipulation and analysis.\n",
    "import pandas as pd\n",
    "\n",
    "# sqlite3 is a built-in Python library for creating and interacting with SQLite databases\n",
    "import sqlite3\n",
    "\n",
    "# prettytable is a module used to format tabular data in a readable way (optional)\n",
    "import prettytable"
   ]
  },
  {
   "cell_type": "code",
   "execution_count": 2,
   "id": "6a8768ce",
   "metadata": {},
   "outputs": [],
   "source": [
    "# Load the ipython-sql extension to run SQL queries in Jupyter\n",
    "%load_ext sql\n",
    "\n",
    "# Sets default format for prettytable display\n",
    "prettytable.DEFAULT = 'DEFAULT'"
   ]
  },
  {
   "cell_type": "code",
   "execution_count": 3,
   "id": "8ed941d5",
   "metadata": {},
   "outputs": [],
   "source": [
    "# Create SQLite connection and cursor\n",
    "con = sqlite3.connect(\"student_depression.db\")\n",
    "cur = con.cursor()\n",
    "\n",
    "# Connect to the SQLite database for ipython-sql\n",
    "%sql sqlite:///student_depression.db"
   ]
  },
  {
   "cell_type": "code",
   "execution_count": 4,
   "id": "6f8964ab",
   "metadata": {},
   "outputs": [
    {
     "data": {
      "text/plain": [
       "27814"
      ]
     },
     "execution_count": 4,
     "metadata": {},
     "output_type": "execute_result"
    }
   ],
   "source": [
    "# Load your cleaned dataset\n",
    "df = pd.read_csv(\"student_depression_cleaned.csv\")\n",
    "\n",
    "# Save the DataFrame to a new table in the SQLite database\n",
    "df.to_sql(\"DepressionSurvey\", con, if_exists='replace', index=False)"
   ]
  },
  {
   "cell_type": "code",
   "execution_count": 5,
   "id": "8f5176dd",
   "metadata": {},
   "outputs": [
    {
     "name": "stdout",
     "output_type": "stream",
     "text": [
      " * sqlite:///student_depression.db\n",
      "Done.\n"
     ]
    },
    {
     "data": {
      "text/plain": [
       "[]"
      ]
     },
     "execution_count": 5,
     "metadata": {},
     "output_type": "execute_result"
    }
   ],
   "source": [
    "# Drop the cleaned query table if it already exists (to avoid duplication)\n",
    "%sql DROP TABLE IF EXISTS Depression_Clean;"
   ]
  },
  {
   "cell_type": "code",
   "execution_count": 6,
   "id": "f31218cd",
   "metadata": {},
   "outputs": [
    {
     "name": "stdout",
     "output_type": "stream",
     "text": [
      " * sqlite:///student_depression.db\n",
      "Done.\n"
     ]
    },
    {
     "data": {
      "text/plain": [
       "[]"
      ]
     },
     "execution_count": 6,
     "metadata": {},
     "output_type": "execute_result"
    }
   ],
   "source": [
    "# Create a new cleaned SQL table with all non-null rows (modify as needed)\n",
    "%sql CREATE TABLE Depression_Clean AS SELECT * FROM DepressionSurvey;"
   ]
  },
  {
   "cell_type": "markdown",
   "id": "4464f311",
   "metadata": {},
   "source": [
    "---"
   ]
  },
  {
   "cell_type": "markdown",
   "id": "82fc9eeb",
   "metadata": {},
   "source": [
    "<a id=\"preview\"></a>\n",
    "\n",
    "## **3.2 Preview the Dataset**\n",
    "\n",
    "To understand the structure and content of the dataset, we start by viewing the first few rows using an SQL query:"
   ]
  },
  {
   "cell_type": "code",
   "execution_count": 7,
   "id": "fb8af02f",
   "metadata": {},
   "outputs": [
    {
     "name": "stdout",
     "output_type": "stream",
     "text": [
      " * sqlite:///student_depression.db\n",
      "Done.\n"
     ]
    },
    {
     "data": {
      "text/html": [
       "<table>\n",
       "    <thead>\n",
       "        <tr>\n",
       "            <th>id</th>\n",
       "            <th>gender</th>\n",
       "            <th>age</th>\n",
       "            <th>region</th>\n",
       "            <th>profession</th>\n",
       "            <th>academic_pressure</th>\n",
       "            <th>work_pressure</th>\n",
       "            <th>cgpa</th>\n",
       "            <th>study_satisfaction</th>\n",
       "            <th>job_satisfaction</th>\n",
       "            <th>sleep_duration</th>\n",
       "            <th>dietary_habits</th>\n",
       "            <th>degree</th>\n",
       "            <th>suicidal_thoughts</th>\n",
       "            <th>work/study_hours</th>\n",
       "            <th>financial_stress</th>\n",
       "            <th>family_mental_history</th>\n",
       "            <th>depression</th>\n",
       "        </tr>\n",
       "    </thead>\n",
       "    <tbody>\n",
       "        <tr>\n",
       "            <td>2</td>\n",
       "            <td>Male</td>\n",
       "            <td>33.0</td>\n",
       "            <td>South</td>\n",
       "            <td>Student</td>\n",
       "            <td>5.0</td>\n",
       "            <td>0.0</td>\n",
       "            <td>8.97</td>\n",
       "            <td>2.0</td>\n",
       "            <td>0.0</td>\n",
       "            <td>5-6 hours</td>\n",
       "            <td>Healthy</td>\n",
       "            <td>Undergraduate</td>\n",
       "            <td>Yes</td>\n",
       "            <td>3.0</td>\n",
       "            <td>1.0</td>\n",
       "            <td>No</td>\n",
       "            <td>1</td>\n",
       "        </tr>\n",
       "        <tr>\n",
       "            <td>8</td>\n",
       "            <td>Female</td>\n",
       "            <td>24.0</td>\n",
       "            <td>South</td>\n",
       "            <td>Student</td>\n",
       "            <td>2.0</td>\n",
       "            <td>0.0</td>\n",
       "            <td>5.9</td>\n",
       "            <td>5.0</td>\n",
       "            <td>0.0</td>\n",
       "            <td>5-6 hours</td>\n",
       "            <td>Moderate</td>\n",
       "            <td>Undergraduate</td>\n",
       "            <td>No</td>\n",
       "            <td>3.0</td>\n",
       "            <td>2.0</td>\n",
       "            <td>Yes</td>\n",
       "            <td>0</td>\n",
       "        </tr>\n",
       "        <tr>\n",
       "            <td>26</td>\n",
       "            <td>Male</td>\n",
       "            <td>31.0</td>\n",
       "            <td>North</td>\n",
       "            <td>Student</td>\n",
       "            <td>3.0</td>\n",
       "            <td>0.0</td>\n",
       "            <td>7.03</td>\n",
       "            <td>5.0</td>\n",
       "            <td>0.0</td>\n",
       "            <td>Less than 5 hours</td>\n",
       "            <td>Healthy</td>\n",
       "            <td>Undergraduate</td>\n",
       "            <td>No</td>\n",
       "            <td>9.0</td>\n",
       "            <td>1.0</td>\n",
       "            <td>Yes</td>\n",
       "            <td>0</td>\n",
       "        </tr>\n",
       "        <tr>\n",
       "            <td>30</td>\n",
       "            <td>Female</td>\n",
       "            <td>28.0</td>\n",
       "            <td>North</td>\n",
       "            <td>Student</td>\n",
       "            <td>3.0</td>\n",
       "            <td>0.0</td>\n",
       "            <td>5.59</td>\n",
       "            <td>2.0</td>\n",
       "            <td>0.0</td>\n",
       "            <td>7-8 hours</td>\n",
       "            <td>Moderate</td>\n",
       "            <td>Undergraduate</td>\n",
       "            <td>Yes</td>\n",
       "            <td>4.0</td>\n",
       "            <td>5.0</td>\n",
       "            <td>Yes</td>\n",
       "            <td>1</td>\n",
       "        </tr>\n",
       "        <tr>\n",
       "            <td>32</td>\n",
       "            <td>Female</td>\n",
       "            <td>25.0</td>\n",
       "            <td>North</td>\n",
       "            <td>Student</td>\n",
       "            <td>4.0</td>\n",
       "            <td>0.0</td>\n",
       "            <td>8.13</td>\n",
       "            <td>3.0</td>\n",
       "            <td>0.0</td>\n",
       "            <td>5-6 hours</td>\n",
       "            <td>Moderate</td>\n",
       "            <td>Postgraduate</td>\n",
       "            <td>Yes</td>\n",
       "            <td>1.0</td>\n",
       "            <td>1.0</td>\n",
       "            <td>No</td>\n",
       "            <td>0</td>\n",
       "        </tr>\n",
       "        <tr>\n",
       "            <td>33</td>\n",
       "            <td>Male</td>\n",
       "            <td>29.0</td>\n",
       "            <td>West</td>\n",
       "            <td>Student</td>\n",
       "            <td>2.0</td>\n",
       "            <td>0.0</td>\n",
       "            <td>5.7</td>\n",
       "            <td>3.0</td>\n",
       "            <td>0.0</td>\n",
       "            <td>Less than 5 hours</td>\n",
       "            <td>Healthy</td>\n",
       "            <td>Doctoral</td>\n",
       "            <td>No</td>\n",
       "            <td>4.0</td>\n",
       "            <td>1.0</td>\n",
       "            <td>No</td>\n",
       "            <td>0</td>\n",
       "        </tr>\n",
       "        <tr>\n",
       "            <td>52</td>\n",
       "            <td>Male</td>\n",
       "            <td>30.0</td>\n",
       "            <td>West</td>\n",
       "            <td>Student</td>\n",
       "            <td>3.0</td>\n",
       "            <td>0.0</td>\n",
       "            <td>9.54</td>\n",
       "            <td>4.0</td>\n",
       "            <td>0.0</td>\n",
       "            <td>7-8 hours</td>\n",
       "            <td>Healthy</td>\n",
       "            <td>Undergraduate</td>\n",
       "            <td>No</td>\n",
       "            <td>1.0</td>\n",
       "            <td>2.0</td>\n",
       "            <td>No</td>\n",
       "            <td>0</td>\n",
       "        </tr>\n",
       "        <tr>\n",
       "            <td>56</td>\n",
       "            <td>Female</td>\n",
       "            <td>30.0</td>\n",
       "            <td>South</td>\n",
       "            <td>Student</td>\n",
       "            <td>2.0</td>\n",
       "            <td>0.0</td>\n",
       "            <td>8.04</td>\n",
       "            <td>4.0</td>\n",
       "            <td>0.0</td>\n",
       "            <td>Less than 5 hours</td>\n",
       "            <td>Unhealthy</td>\n",
       "            <td>Class 12</td>\n",
       "            <td>No</td>\n",
       "            <td>0.0</td>\n",
       "            <td>1.0</td>\n",
       "            <td>Yes</td>\n",
       "            <td>0</td>\n",
       "        </tr>\n",
       "        <tr>\n",
       "            <td>59</td>\n",
       "            <td>Male</td>\n",
       "            <td>28.0</td>\n",
       "            <td>West</td>\n",
       "            <td>Student</td>\n",
       "            <td>3.0</td>\n",
       "            <td>0.0</td>\n",
       "            <td>9.79</td>\n",
       "            <td>1.0</td>\n",
       "            <td>0.0</td>\n",
       "            <td>7-8 hours</td>\n",
       "            <td>Moderate</td>\n",
       "            <td>Undergraduate</td>\n",
       "            <td>Yes</td>\n",
       "            <td>12.0</td>\n",
       "            <td>3.0</td>\n",
       "            <td>No</td>\n",
       "            <td>1</td>\n",
       "        </tr>\n",
       "        <tr>\n",
       "            <td>62</td>\n",
       "            <td>Male</td>\n",
       "            <td>31.0</td>\n",
       "            <td>West</td>\n",
       "            <td>Student</td>\n",
       "            <td>2.0</td>\n",
       "            <td>0.0</td>\n",
       "            <td>8.38</td>\n",
       "            <td>3.0</td>\n",
       "            <td>0.0</td>\n",
       "            <td>Less than 5 hours</td>\n",
       "            <td>Moderate</td>\n",
       "            <td>Undergraduate</td>\n",
       "            <td>Yes</td>\n",
       "            <td>2.0</td>\n",
       "            <td>5.0</td>\n",
       "            <td>No</td>\n",
       "            <td>1</td>\n",
       "        </tr>\n",
       "    </tbody>\n",
       "</table>"
      ],
      "text/plain": [
       "[(2, 'Male', 33.0, 'South', 'Student', 5.0, 0.0, 8.97, 2.0, 0.0, '5-6 hours', 'Healthy', 'Undergraduate', 'Yes', 3.0, 1.0, 'No', 1),\n",
       " (8, 'Female', 24.0, 'South', 'Student', 2.0, 0.0, 5.9, 5.0, 0.0, '5-6 hours', 'Moderate', 'Undergraduate', 'No', 3.0, 2.0, 'Yes', 0),\n",
       " (26, 'Male', 31.0, 'North', 'Student', 3.0, 0.0, 7.03, 5.0, 0.0, 'Less than 5 hours', 'Healthy', 'Undergraduate', 'No', 9.0, 1.0, 'Yes', 0),\n",
       " (30, 'Female', 28.0, 'North', 'Student', 3.0, 0.0, 5.59, 2.0, 0.0, '7-8 hours', 'Moderate', 'Undergraduate', 'Yes', 4.0, 5.0, 'Yes', 1),\n",
       " (32, 'Female', 25.0, 'North', 'Student', 4.0, 0.0, 8.13, 3.0, 0.0, '5-6 hours', 'Moderate', 'Postgraduate', 'Yes', 1.0, 1.0, 'No', 0),\n",
       " (33, 'Male', 29.0, 'West', 'Student', 2.0, 0.0, 5.7, 3.0, 0.0, 'Less than 5 hours', 'Healthy', 'Doctoral', 'No', 4.0, 1.0, 'No', 0),\n",
       " (52, 'Male', 30.0, 'West', 'Student', 3.0, 0.0, 9.54, 4.0, 0.0, '7-8 hours', 'Healthy', 'Undergraduate', 'No', 1.0, 2.0, 'No', 0),\n",
       " (56, 'Female', 30.0, 'South', 'Student', 2.0, 0.0, 8.04, 4.0, 0.0, 'Less than 5 hours', 'Unhealthy', 'Class 12', 'No', 0.0, 1.0, 'Yes', 0),\n",
       " (59, 'Male', 28.0, 'West', 'Student', 3.0, 0.0, 9.79, 1.0, 0.0, '7-8 hours', 'Moderate', 'Undergraduate', 'Yes', 12.0, 3.0, 'No', 1),\n",
       " (62, 'Male', 31.0, 'West', 'Student', 2.0, 0.0, 8.38, 3.0, 0.0, 'Less than 5 hours', 'Moderate', 'Undergraduate', 'Yes', 2.0, 5.0, 'No', 1)]"
      ]
     },
     "execution_count": 7,
     "metadata": {},
     "output_type": "execute_result"
    }
   ],
   "source": [
    "%%sql\n",
    "SELECT * FROM Depression_Clean LIMIT 10;"
   ]
  },
  {
   "cell_type": "markdown",
   "id": "d48aa7dc",
   "metadata": {},
   "source": [
    "---"
   ]
  },
  {
   "cell_type": "markdown",
   "id": "0e3e4af4",
   "metadata": {},
   "source": [
    "<a id=\"sql_queries\"></a>\n",
    "\n",
    "## **3.3 Run SQL Queries to Answer Key Questions**\n",
    "\n",
    "Here we run a series of SQL queries to explore and gain insights from the dataset. Each query focuses on a specific question relevant to understanding factors related to depression."
   ]
  },
  {
   "cell_type": "markdown",
   "id": "0bbda9ef",
   "metadata": {},
   "source": [
    "### 3.3.1 Count total records in the dataset"
   ]
  },
  {
   "cell_type": "code",
   "execution_count": 8,
   "id": "f0f4df73",
   "metadata": {},
   "outputs": [
    {
     "name": "stdout",
     "output_type": "stream",
     "text": [
      " * sqlite:///student_depression.db\n",
      "Done.\n"
     ]
    },
    {
     "data": {
      "text/html": [
       "<table>\n",
       "    <thead>\n",
       "        <tr>\n",
       "            <th>total_records</th>\n",
       "        </tr>\n",
       "    </thead>\n",
       "    <tbody>\n",
       "        <tr>\n",
       "            <td>27814</td>\n",
       "        </tr>\n",
       "    </tbody>\n",
       "</table>"
      ],
      "text/plain": [
       "[(27814,)]"
      ]
     },
     "execution_count": 8,
     "metadata": {},
     "output_type": "execute_result"
    }
   ],
   "source": [
    "%%sql\n",
    "SELECT COUNT(*) AS total_records FROM Depression_Clean;"
   ]
  },
  {
   "cell_type": "markdown",
   "id": "a9ab247b",
   "metadata": {},
   "source": [
    "### 3.3.2 Count Records by Depression Status"
   ]
  },
  {
   "cell_type": "code",
   "execution_count": 9,
   "metadata": {},
   "outputs": [
    {
     "name": "stdout",
     "output_type": "stream",
     "text": [
      " * sqlite:///student_depression.db\n",
      "Done.\n"
     ]
    },
    {
     "data": {
      "text/html": [
       "<table>\n",
       "    <thead>\n",
       "        <tr>\n",
       "            <th>depression</th>\n",
       "            <th>count</th>\n",
       "        </tr>\n",
       "    </thead>\n",
       "    <tbody>\n",
       "        <tr>\n",
       "            <td>0</td>\n",
       "            <td>11530</td>\n",
       "        </tr>\n",
       "        <tr>\n",
       "            <td>1</td>\n",
       "            <td>16284</td>\n",
       "        </tr>\n",
       "    </tbody>\n",
       "</table>"
      ],
      "text/plain": [
       "[(0, 11530), (1, 16284)]"
      ]
     },
     "execution_count": 9,
     "metadata": {},
     "output_type": "execute_result"
    }
   ],
   "source": [
    "%%sql\n",
    "SELECT depression, COUNT(*) AS count\n",
    "FROM Depression_Clean\n",
    "GROUP BY depression;"
   ]
  },
  {
   "cell_type": "markdown",
   "id": "5ffd7c26",
   "metadata": {},
   "source": [
    "### 3.3.3 Average Age by Depression Status"
   ]
  },
  {
   "cell_type": "code",
   "execution_count": 10,
   "id": "9970c090",
   "metadata": {},
   "outputs": [
    {
     "name": "stdout",
     "output_type": "stream",
     "text": [
      " * sqlite:///student_depression.db\n",
      "Done.\n"
     ]
    },
    {
     "data": {
      "text/html": [
       "<table>\n",
       "    <thead>\n",
       "        <tr>\n",
       "            <th>depression</th>\n",
       "            <th>average_age</th>\n",
       "        </tr>\n",
       "    </thead>\n",
       "    <tbody>\n",
       "        <tr>\n",
       "            <td>0</td>\n",
       "            <td>27.14362532523851</td>\n",
       "        </tr>\n",
       "        <tr>\n",
       "            <td>1</td>\n",
       "            <td>24.88319823139278</td>\n",
       "        </tr>\n",
       "    </tbody>\n",
       "</table>"
      ],
      "text/plain": [
       "[(0, 27.14362532523851), (1, 24.88319823139278)]"
      ]
     },
     "execution_count": 10,
     "metadata": {},
     "output_type": "execute_result"
    }
   ],
   "source": [
    "%%sql\n",
    "SELECT depression, AVG(age) AS average_age\n",
    "FROM Depression_Clean\n",
    "GROUP BY depression;"
   ]
  },
  {
   "cell_type": "markdown",
   "id": "a3537fc6",
   "metadata": {},
   "source": [
    "### 3.3.4 Gender Distribution by Depression Status"
   ]
  },
  {
   "cell_type": "code",
   "execution_count": 11,
   "id": "fcf7bc3d",
   "metadata": {},
   "outputs": [
    {
     "name": "stdout",
     "output_type": "stream",
     "text": [
      " * sqlite:///student_depression.db\n",
      "Done.\n",
      "Done.\n"
     ]
    },
    {
     "data": {
      "text/html": [
       "<table>\n",
       "    <thead>\n",
       "        <tr>\n",
       "            <th>depression</th>\n",
       "            <th>gender</th>\n",
       "            <th>count</th>\n",
       "        </tr>\n",
       "    </thead>\n",
       "    <tbody>\n",
       "        <tr>\n",
       "            <td>0</td>\n",
       "            <td>Female</td>\n",
       "            <td>5116</td>\n",
       "        </tr>\n",
       "        <tr>\n",
       "            <td>0</td>\n",
       "            <td>Male</td>\n",
       "            <td>6414</td>\n",
       "        </tr>\n",
       "        <tr>\n",
       "            <td>1</td>\n",
       "            <td>Female</td>\n",
       "            <td>7200</td>\n",
       "        </tr>\n",
       "        <tr>\n",
       "            <td>1</td>\n",
       "            <td>Male</td>\n",
       "            <td>9084</td>\n",
       "        </tr>\n",
       "    </tbody>\n",
       "</table>"
      ],
      "text/plain": [
       "[(0, 'Female', 5116),\n",
       " (0, 'Male', 6414),\n",
       " (1, 'Female', 7200),\n",
       " (1, 'Male', 9084)]"
      ]
     },
     "execution_count": 11,
     "metadata": {},
     "output_type": "execute_result"
    }
   ],
   "source": [
    "%%sql\n",
    "SELECT depression, AVG(age) AS avg_age\n",
    "FROM Depression_Clean\n",
    "GROUP BY depression;\n",
    "SELECT depression, gender, COUNT(*) AS count\n",
    "FROM Depression_Clean\n",
    "GROUP BY depression, gender;"
   ]
  },
  {
   "cell_type": "markdown",
   "id": "fa3a6ef4",
   "metadata": {},
   "source": [
    "### 3.3.5 Average CGPA by Depression Status"
   ]
  },
  {
   "cell_type": "code",
   "execution_count": 12,
   "id": "466e795f",
   "metadata": {},
   "outputs": [
    {
     "name": "stdout",
     "output_type": "stream",
     "text": [
      " * sqlite:///student_depression.db\n",
      "Done.\n"
     ]
    },
    {
     "data": {
      "text/html": [
       "<table>\n",
       "    <thead>\n",
       "        <tr>\n",
       "            <th>depression</th>\n",
       "            <th>average_cgpa</th>\n",
       "        </tr>\n",
       "    </thead>\n",
       "    <tbody>\n",
       "        <tr>\n",
       "            <td>0</td>\n",
       "            <td>7.618728534258456</td>\n",
       "        </tr>\n",
       "        <tr>\n",
       "            <td>1</td>\n",
       "            <td>7.68247743183493</td>\n",
       "        </tr>\n",
       "    </tbody>\n",
       "</table>"
      ],
      "text/plain": [
       "[(0, 7.618728534258456), (1, 7.68247743183493)]"
      ]
     },
     "execution_count": 12,
     "metadata": {},
     "output_type": "execute_result"
    }
   ],
   "source": [
    "%%sql\n",
    "SELECT depression, AVG(cgpa) AS average_cgpa\n",
    "FROM Depression_Clean\n",
    "GROUP BY depression;"
   ]
  },
  {
   "cell_type": "markdown",
   "id": "1ebc0f81",
   "metadata": {},
   "source": [
    "### 3.3.6 Count by Region and Depression"
   ]
  },
  {
   "cell_type": "code",
   "execution_count": 13,
   "id": "f6ec098d",
   "metadata": {},
   "outputs": [
    {
     "name": "stdout",
     "output_type": "stream",
     "text": [
      " * sqlite:///student_depression.db\n",
      "Done.\n"
     ]
    },
    {
     "data": {
      "text/html": [
       "<table>\n",
       "    <thead>\n",
       "        <tr>\n",
       "            <th>region</th>\n",
       "            <th>depression</th>\n",
       "            <th>count</th>\n",
       "        </tr>\n",
       "    </thead>\n",
       "    <tbody>\n",
       "        <tr>\n",
       "            <td>East</td>\n",
       "            <td>0</td>\n",
       "            <td>784</td>\n",
       "        </tr>\n",
       "        <tr>\n",
       "            <td>East</td>\n",
       "            <td>1</td>\n",
       "            <td>1279</td>\n",
       "        </tr>\n",
       "        <tr>\n",
       "            <td>North</td>\n",
       "            <td>0</td>\n",
       "            <td>4321</td>\n",
       "        </tr>\n",
       "        <tr>\n",
       "            <td>North</td>\n",
       "            <td>1</td>\n",
       "            <td>5519</td>\n",
       "        </tr>\n",
       "        <tr>\n",
       "            <td>South</td>\n",
       "            <td>0</td>\n",
       "            <td>1515</td>\n",
       "        </tr>\n",
       "        <tr>\n",
       "            <td>South</td>\n",
       "            <td>1</td>\n",
       "            <td>2441</td>\n",
       "        </tr>\n",
       "        <tr>\n",
       "            <td>West</td>\n",
       "            <td>0</td>\n",
       "            <td>4910</td>\n",
       "        </tr>\n",
       "        <tr>\n",
       "            <td>West</td>\n",
       "            <td>1</td>\n",
       "            <td>7045</td>\n",
       "        </tr>\n",
       "    </tbody>\n",
       "</table>"
      ],
      "text/plain": [
       "[('East', 0, 784),\n",
       " ('East', 1, 1279),\n",
       " ('North', 0, 4321),\n",
       " ('North', 1, 5519),\n",
       " ('South', 0, 1515),\n",
       " ('South', 1, 2441),\n",
       " ('West', 0, 4910),\n",
       " ('West', 1, 7045)]"
      ]
     },
     "execution_count": 13,
     "metadata": {},
     "output_type": "execute_result"
    }
   ],
   "source": [
    "%%sql\n",
    "SELECT region, depression, COUNT(*) AS count\n",
    "FROM Depression_Clean\n",
    "GROUP BY region, depression;"
   ]
  },
  {
   "cell_type": "markdown",
   "id": "9b52ec0f",
   "metadata": {},
   "source": [
    "### 3.3.7 Average Sleep Duration by Depression Status"
   ]
  },
  {
   "cell_type": "code",
   "execution_count": 14,
   "id": "798ef7f8",
   "metadata": {},
   "outputs": [
    {
     "name": "stdout",
     "output_type": "stream",
     "text": [
      " * sqlite:///student_depression.db\n",
      "Done.\n"
     ]
    },
    {
     "data": {
      "text/html": [
       "<table>\n",
       "    <thead>\n",
       "        <tr>\n",
       "            <th>depression</th>\n",
       "            <th>average_sleep_duration</th>\n",
       "        </tr>\n",
       "    </thead>\n",
       "    <tbody>\n",
       "        <tr>\n",
       "            <td>0</td>\n",
       "            <td>2.9562879444926278</td>\n",
       "        </tr>\n",
       "        <tr>\n",
       "            <td>1</td>\n",
       "            <td>2.9496438221567183</td>\n",
       "        </tr>\n",
       "    </tbody>\n",
       "</table>"
      ],
      "text/plain": [
       "[(0, 2.9562879444926278), (1, 2.9496438221567183)]"
      ]
     },
     "execution_count": 14,
     "metadata": {},
     "output_type": "execute_result"
    }
   ],
   "source": [
    "%%sql\n",
    "SELECT depression, AVG(sleep_duration) AS average_sleep_duration\n",
    "FROM Depression_Clean\n",
    "GROUP BY depression;"
   ]
  },
  {
   "cell_type": "markdown",
   "id": "2166525e",
   "metadata": {},
   "source": [
    "### 3.3.8 Count by Dietary Habits and Depression"
   ]
  },
  {
   "cell_type": "code",
   "execution_count": 15,
   "id": "f3da3dcd",
   "metadata": {},
   "outputs": [
    {
     "name": "stdout",
     "output_type": "stream",
     "text": [
      " * sqlite:///student_depression.db\n",
      "Done.\n"
     ]
    },
    {
     "data": {
      "text/html": [
       "<table>\n",
       "    <thead>\n",
       "        <tr>\n",
       "            <th>dietary_habits</th>\n",
       "            <th>depression</th>\n",
       "            <th>count</th>\n",
       "        </tr>\n",
       "    </thead>\n",
       "    <tbody>\n",
       "        <tr>\n",
       "            <td>Healthy</td>\n",
       "            <td>0</td>\n",
       "            <td>4171</td>\n",
       "        </tr>\n",
       "        <tr>\n",
       "            <td>Healthy</td>\n",
       "            <td>1</td>\n",
       "            <td>3463</td>\n",
       "        </tr>\n",
       "        <tr>\n",
       "            <td>Moderate</td>\n",
       "            <td>0</td>\n",
       "            <td>4353</td>\n",
       "        </tr>\n",
       "        <tr>\n",
       "            <td>Moderate</td>\n",
       "            <td>1</td>\n",
       "            <td>5547</td>\n",
       "        </tr>\n",
       "        <tr>\n",
       "            <td>Unhealthy</td>\n",
       "            <td>0</td>\n",
       "            <td>3006</td>\n",
       "        </tr>\n",
       "        <tr>\n",
       "            <td>Unhealthy</td>\n",
       "            <td>1</td>\n",
       "            <td>7274</td>\n",
       "        </tr>\n",
       "    </tbody>\n",
       "</table>"
      ],
      "text/plain": [
       "[('Healthy', 0, 4171),\n",
       " ('Healthy', 1, 3463),\n",
       " ('Moderate', 0, 4353),\n",
       " ('Moderate', 1, 5547),\n",
       " ('Unhealthy', 0, 3006),\n",
       " ('Unhealthy', 1, 7274)]"
      ]
     },
     "execution_count": 15,
     "metadata": {},
     "output_type": "execute_result"
    }
   ],
   "source": [
    "%%sql\n",
    "SELECT dietary_habits, depression, COUNT(*) AS count\n",
    "FROM Depression_Clean\n",
    "GROUP BY dietary_habits, depression;"
   ]
  },
  {
   "cell_type": "markdown",
   "id": "6970a53a",
   "metadata": {},
   "source": [
    "### 3.3.9 Count by Suicidal Thoughts and Depression"
   ]
  },
  {
   "cell_type": "code",
   "execution_count": 16,
   "id": "8044ce71",
   "metadata": {},
   "outputs": [
    {
     "name": "stdout",
     "output_type": "stream",
     "text": [
      " * sqlite:///student_depression.db\n",
      "Done.\n"
     ]
    },
    {
     "data": {
      "text/html": [
       "<table>\n",
       "    <thead>\n",
       "        <tr>\n",
       "            <th>suicidal_thoughts</th>\n",
       "            <th>depression</th>\n",
       "            <th>count</th>\n",
       "        </tr>\n",
       "    </thead>\n",
       "    <tbody>\n",
       "        <tr>\n",
       "            <td>No</td>\n",
       "            <td>0</td>\n",
       "            <td>7846</td>\n",
       "        </tr>\n",
       "        <tr>\n",
       "            <td>No</td>\n",
       "            <td>1</td>\n",
       "            <td>2367</td>\n",
       "        </tr>\n",
       "        <tr>\n",
       "            <td>Yes</td>\n",
       "            <td>0</td>\n",
       "            <td>3684</td>\n",
       "        </tr>\n",
       "        <tr>\n",
       "            <td>Yes</td>\n",
       "            <td>1</td>\n",
       "            <td>13917</td>\n",
       "        </tr>\n",
       "    </tbody>\n",
       "</table>"
      ],
      "text/plain": [
       "[('No', 0, 7846), ('No', 1, 2367), ('Yes', 0, 3684), ('Yes', 1, 13917)]"
      ]
     },
     "execution_count": 16,
     "metadata": {},
     "output_type": "execute_result"
    }
   ],
   "source": [
    "%%sql\n",
    "SELECT suicidal_thoughts, depression, COUNT(*) AS count\n",
    "FROM Depression_Clean\n",
    "GROUP BY suicidal_thoughts, depression;"
   ]
  },
  {
   "cell_type": "markdown",
   "id": "9b138942",
   "metadata": {},
   "source": [
    "### 3.3.10 Count by Financial Stress and Depression (Ordered by Count)"
   ]
  },
  {
   "cell_type": "code",
   "execution_count": 17,
   "id": "f74e2cf4",
   "metadata": {},
   "outputs": [
    {
     "name": "stdout",
     "output_type": "stream",
     "text": [
      " * sqlite:///student_depression.db\n",
      "Done.\n"
     ]
    },
    {
     "data": {
      "text/html": [
       "<table>\n",
       "    <thead>\n",
       "        <tr>\n",
       "            <th>financial_stress</th>\n",
       "            <th>depression</th>\n",
       "            <th>count</th>\n",
       "        </tr>\n",
       "    </thead>\n",
       "    <tbody>\n",
       "        <tr>\n",
       "            <td>5.0</td>\n",
       "            <td>1</td>\n",
       "            <td>5438</td>\n",
       "        </tr>\n",
       "        <tr>\n",
       "            <td>4.0</td>\n",
       "            <td>1</td>\n",
       "            <td>3979</td>\n",
       "        </tr>\n",
       "        <tr>\n",
       "            <td>1.0</td>\n",
       "            <td>0</td>\n",
       "            <td>3475</td>\n",
       "        </tr>\n",
       "        <tr>\n",
       "            <td>3.0</td>\n",
       "            <td>1</td>\n",
       "            <td>3072</td>\n",
       "        </tr>\n",
       "        <tr>\n",
       "            <td>2.0</td>\n",
       "            <td>0</td>\n",
       "            <td>2879</td>\n",
       "        </tr>\n",
       "        <tr>\n",
       "            <td>2.0</td>\n",
       "            <td>1</td>\n",
       "            <td>2170</td>\n",
       "        </tr>\n",
       "        <tr>\n",
       "            <td>3.0</td>\n",
       "            <td>0</td>\n",
       "            <td>2142</td>\n",
       "        </tr>\n",
       "        <tr>\n",
       "            <td>4.0</td>\n",
       "            <td>0</td>\n",
       "            <td>1780</td>\n",
       "        </tr>\n",
       "        <tr>\n",
       "            <td>1.0</td>\n",
       "            <td>1</td>\n",
       "            <td>1625</td>\n",
       "        </tr>\n",
       "        <tr>\n",
       "            <td>5.0</td>\n",
       "            <td>0</td>\n",
       "            <td>1254</td>\n",
       "        </tr>\n",
       "    </tbody>\n",
       "</table>"
      ],
      "text/plain": [
       "[(5.0, 1, 5438),\n",
       " (4.0, 1, 3979),\n",
       " (1.0, 0, 3475),\n",
       " (3.0, 1, 3072),\n",
       " (2.0, 0, 2879),\n",
       " (2.0, 1, 2170),\n",
       " (3.0, 0, 2142),\n",
       " (4.0, 0, 1780),\n",
       " (1.0, 1, 1625),\n",
       " (5.0, 0, 1254)]"
      ]
     },
     "execution_count": 17,
     "metadata": {},
     "output_type": "execute_result"
    }
   ],
   "source": [
    "%%sql\n",
    "SELECT financial_stress, depression, count\n",
    "FROM (\n",
    "    SELECT financial_stress, depression, COUNT(*) AS count\n",
    "    FROM Depression_Clean\n",
    "    GROUP BY financial_stress, depression\n",
    ") AS subquery\n",
    "ORDER BY count DESC;"
   ]
  },
  {
   "cell_type": "code",
   "execution_count": 18,
   "id": "a97da708",
   "metadata": {},
   "outputs": [],
   "source": [
    "# Commit and close the connection\n",
    "con.commit()\n",
    "con.close()"
   ]
  },
  {
   "cell_type": "markdown",
   "id": "9179e2c3",
   "metadata": {},
   "source": [
    "<a id=\"summary\"></a>\n",
    "\n",
    "## **3.4 Summary and Key Insights**\n",
    "\n",
    "After running the SQL queries, we summarize the key findings and insights to guide the next phases of the project."
   ]
  },
  {
   "cell_type": "markdown",
   "id": "8387d70f",
   "metadata": {},
   "source": [
    "#### **Summary**\n",
    "\n",
    "In this section, we analyzed the cleaned **Student Depression Survey** dataset using SQL queries executed within a SQLite database. Our goal was to extract meaningful patterns and summarize key insights that help understand the factors associated with student depression.\n",
    "\n",
    "#### **Key Insights**\n",
    "\n",
    "1. **Total Records**\n",
    "   The dataset contains **27,814 records**, representing individual student responses.\n",
    "\n",
    "2. **Depression Distribution**\n",
    "\n",
    "   * **58.6%** (16,284 students) reported experiencing depression.\n",
    "   * **41.4%** (11,530 students) reported no depression.\n",
    "\n",
    "     → Depression is a significant issue among the surveyed students.\n",
    "\n",
    "3. **Age and Depression**\n",
    "\n",
    "   * The **average age** of depressed students is **\\~24.9 years**, while students without depression average **\\~27.1 years**.\n",
    "\n",
    "     → Younger students tend to report more depression symptoms.\n",
    "\n",
    "4. **Gender and Depression**\n",
    "\n",
    "   * Among those without depression: 44.4% female, 55.6% male.\n",
    "   * Among depressed students: 44.2% female, 55.8% male.\n",
    "\n",
    "     → Depression is slightly more prevalent among male respondents.\n",
    "\n",
    "5. **CGPA and Depression**\n",
    "\n",
    "   * Average CGPA for depressed students: **7.68**\n",
    "   * Average CGPA for non-depressed students: **7.62**\n",
    "\n",
    "     → Academic performance does not show a strong correlation with depression.\n",
    "\n",
    "6. **Regional Distribution**\n",
    "\n",
    "   * The **West** and **North** regions have the highest number of students, and also the highest reported cases of depression.\n",
    "   * All regions show more cases of depression than non-depression.\n",
    "\n",
    "7. **Sleep Duration**\n",
    "\n",
    "   * Average sleep duration is around **3 hours** for both groups.\n",
    "\n",
    "     → Indicates possible sleep deprivation overall, but no clear difference between groups.\n",
    "\n",
    "8. **Dietary Habits**\n",
    "\n",
    "   * Students with **unhealthy diets** are more likely to be depressed (over 7,000 cases).\n",
    "   * Those with **healthy diets** are more likely to report no depression.\n",
    "\n",
    "     → Diet plays an important role in mental health.\n",
    "\n",
    "9. **Suicidal Thoughts**\n",
    "\n",
    "   * A strong link: 13,917 students with suicidal thoughts reported depression.\n",
    "   * Only 2,367 with no suicidal thoughts reported depression.\n",
    "\n",
    "     → A red flag for mental health interventions.\n",
    "\n",
    "10. **Financial Stress**\n",
    "\n",
    "* High levels of financial stress (level 5) are mostly reported by students with depression.\n",
    "* Lower stress levels are more common among those not depressed.\n",
    "\n",
    "  → Financial hardship is a major contributing factor.\n",
    "\n",
    "#### **Conclusion**\n",
    "\n",
    "The SQL-based EDA has highlighted several behavioral, demographic, and lifestyle factors that correlate with student depression. These insights can inform targeted mental health support and policy decisions in educational institutions."
   ]
  },
  {
   "cell_type": "code",
   "execution_count": null,
   "id": "589571b9",
   "metadata": {},
   "outputs": [],
   "source": []
  }
 ],
 "metadata": {
  "kernelspec": {
   "display_name": "base",
   "language": "python",
   "name": "python3"
  },
  "language_info": {
   "codemirror_mode": {
    "name": "ipython",
    "version": 3
   },
   "file_extension": ".py",
   "mimetype": "text/x-python",
   "name": "python",
   "nbconvert_exporter": "python",
   "pygments_lexer": "ipython3",
   "version": "3.12.4"
  }
 },
 "nbformat": 4,
 "nbformat_minor": 5
}
